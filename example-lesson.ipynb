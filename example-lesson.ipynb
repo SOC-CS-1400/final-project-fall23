{
 "cells": [
  {
   "attachments": {},
   "cell_type": "markdown",
   "metadata": {},
   "source": [
    "# Create a lesson using GitHub Copilot\n",
    "\n",
    "\n",
    "## Step 1: Enable GitHub Copilot\n",
    "\n",
    "\n",
    "## Step 2: Add new content to this lesson\n",
    "\n",
    "\n",
    "## Step 3: Create challenges for this lesson\n"
   ]
  },
  {
   "cell_type": "code",
   "execution_count": null,
   "metadata": {},
   "outputs": [],
   "source": [
    "# replace this comment with a prompt for Copilot that starts with \"create a challenge for a student\" to get useful suggestions\n"
   ]
  },
  {
   "cell_type": "code",
   "execution_count": null,
   "metadata": {},
   "outputs": [],
   "source": [
    "# replace this comment with a prompt for Copilot that starts with \"create a challenge for a student\" to get useful suggestions\n"
   ]
  },
  {
   "attachments": {},
   "cell_type": "markdown",
   "metadata": {},
   "source": [
    "## Quiz: Python functions and variable arguments\n"
   ]
  }
 ],
 "metadata": {
  "kernelspec": {
   "display_name": "Python 3",
   "language": "python",
   "name": "python3"
  },
  "language_info": {
   "name": "python",
   "version": "3.11.1 (main, Dec 23 2022, 09:28:24) [Clang 14.0.0 (clang-1400.0.29.202)]"
  },
  "orig_nbformat": 4,
  "vscode": {
   "interpreter": {
    "hash": "5c7b89af1651d0b8571dde13640ecdccf7d5a6204171d6ab33e7c296e100e08a"
   }
  }
 },
 "nbformat": 4,
 "nbformat_minor": 2
}
