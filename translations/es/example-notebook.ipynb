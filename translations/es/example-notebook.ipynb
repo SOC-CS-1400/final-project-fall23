{
 "cells": [
  {
   "cell_type": "markdown",
   "metadata": {},
   "source": [
    "# Operaciones básicas de Pandas\n",
    "\n",
    "Este cuaderno te guiará a través de algunas operaciones básicas con la biblioteca De Python de Pandas para explorar un pequeño conjunto de datos de regiones vinícolas de todo el mundo.\n",
    "\n",
    "**Objetivos de aprendizaje:**\n",
    "\n",
    "1. Importar Pandas usando un patrón común\n",
    "1. Leer un conjunto de datos CSV de un disco\n",
    "1. Realizar una visión general rápida del conjunto de datos\n",
    "1. Usar plot para proporcionar contexto visual"
   ]
  },
  {
   "cell_type": "markdown",
   "metadata": {},
   "source": [
    "### Importa Pandas \n",
    "Y luego lee un archivo de conjunto de datos CSV local"
   ]
  },
  {
   "cell_type": "code",
   "execution_count": 35,
   "metadata": {},
   "outputs": [
    {
     "data": {
      "text/html": [
       "<div>\n",
       "<style scoped>\n",
       "    .dataframe tbody tr th:only-of-type {\n",
       "        vertical-align: middle;\n",
       "    }\n",
       "\n",
       "    .dataframe tbody tr th {\n",
       "        vertical-align: top;\n",
       "    }\n",
       "\n",
       "    .dataframe thead th {\n",
       "        text-align: right;\n",
       "    }\n",
       "</style>\n",
       "<table border=\"1\" class=\"dataframe\">\n",
       "  <thead>\n",
       "    <tr style=\"text-align: right;\">\n",
       "      <th></th>\n",
       "      <th>region</th>\n",
       "      <th>variety</th>\n",
       "      <th>rating</th>\n",
       "    </tr>\n",
       "  </thead>\n",
       "  <tbody>\n",
       "    <tr>\n",
       "      <th>0</th>\n",
       "      <td>Pessac-Leognan, Bordeaux, France</td>\n",
       "      <td>Red Wine</td>\n",
       "      <td>90.0</td>\n",
       "    </tr>\n",
       "    <tr>\n",
       "      <th>1</th>\n",
       "      <td>Spain</td>\n",
       "      <td>Sparkling &amp; Champagne</td>\n",
       "      <td>88.0</td>\n",
       "    </tr>\n",
       "    <tr>\n",
       "      <th>2</th>\n",
       "      <td>Santa Ynez Valley, Santa Barbara, Central Coas...</td>\n",
       "      <td>Red Wine</td>\n",
       "      <td>96.0</td>\n",
       "    </tr>\n",
       "    <tr>\n",
       "      <th>3</th>\n",
       "      <td>Sta. Rita Hills, Santa Barbara, Central Coast,...</td>\n",
       "      <td>Red Wine</td>\n",
       "      <td>90.0</td>\n",
       "    </tr>\n",
       "    <tr>\n",
       "      <th>4</th>\n",
       "      <td>Burgundy, France</td>\n",
       "      <td>White Wine</td>\n",
       "      <td>94.0</td>\n",
       "    </tr>\n",
       "    <tr>\n",
       "      <th>5</th>\n",
       "      <td>Santa Lucia Highlands, Monterey, Central Coast...</td>\n",
       "      <td>Red Wine</td>\n",
       "      <td>90.0</td>\n",
       "    </tr>\n",
       "    <tr>\n",
       "      <th>6</th>\n",
       "      <td>Argentina</td>\n",
       "      <td>Red Wine</td>\n",
       "      <td>88.0</td>\n",
       "    </tr>\n",
       "    <tr>\n",
       "      <th>7</th>\n",
       "      <td>Chianti Classico, Chianti, Tuscany, Italy</td>\n",
       "      <td>Red Wine</td>\n",
       "      <td>91.0</td>\n",
       "    </tr>\n",
       "    <tr>\n",
       "      <th>8</th>\n",
       "      <td>Ribbon Ridge, Willamette Valley, Oregon</td>\n",
       "      <td>Red Wine</td>\n",
       "      <td>95.0</td>\n",
       "    </tr>\n",
       "    <tr>\n",
       "      <th>9</th>\n",
       "      <td>Barolo, Piedmont, Italy</td>\n",
       "      <td>Red Wine</td>\n",
       "      <td>94.0</td>\n",
       "    </tr>\n",
       "    <tr>\n",
       "      <th>10</th>\n",
       "      <td>Portugal</td>\n",
       "      <td>White Wine</td>\n",
       "      <td>90.0</td>\n",
       "    </tr>\n",
       "    <tr>\n",
       "      <th>11</th>\n",
       "      <td>Central Coast, California</td>\n",
       "      <td>Red Wine</td>\n",
       "      <td>92.0</td>\n",
       "    </tr>\n",
       "    <tr>\n",
       "      <th>12</th>\n",
       "      <td>Central Coast, California</td>\n",
       "      <td>Red Wine</td>\n",
       "      <td>92.0</td>\n",
       "    </tr>\n",
       "    <tr>\n",
       "      <th>13</th>\n",
       "      <td>Alsace, France</td>\n",
       "      <td>White Wine</td>\n",
       "      <td>91.0</td>\n",
       "    </tr>\n",
       "    <tr>\n",
       "      <th>14</th>\n",
       "      <td>Willamette Valley, Oregon</td>\n",
       "      <td>White Wine</td>\n",
       "      <td>90.0</td>\n",
       "    </tr>\n",
       "    <tr>\n",
       "      <th>15</th>\n",
       "      <td>Columbia Valley, Washington</td>\n",
       "      <td>Red Wine</td>\n",
       "      <td>90.0</td>\n",
       "    </tr>\n",
       "    <tr>\n",
       "      <th>16</th>\n",
       "      <td>Napa Valley, California</td>\n",
       "      <td>Red Wine</td>\n",
       "      <td>94.0</td>\n",
       "    </tr>\n",
       "    <tr>\n",
       "      <th>17</th>\n",
       "      <td>Barolo, Piedmont, Italy</td>\n",
       "      <td>Red Wine</td>\n",
       "      <td>92.0</td>\n",
       "    </tr>\n",
       "    <tr>\n",
       "      <th>18</th>\n",
       "      <td>Rioja, Spain</td>\n",
       "      <td>Red Wine</td>\n",
       "      <td>91.0</td>\n",
       "    </tr>\n",
       "    <tr>\n",
       "      <th>19</th>\n",
       "      <td>Eden Valley, Barossa, South Australia, Australia</td>\n",
       "      <td>White Wine</td>\n",
       "      <td>90.0</td>\n",
       "    </tr>\n",
       "  </tbody>\n",
       "</table>\n",
       "</div>"
      ],
      "text/plain": [
       "                                               region                variety  \\\n",
       "0                    Pessac-Leognan, Bordeaux, France               Red Wine   \n",
       "1                                               Spain  Sparkling & Champagne   \n",
       "2   Santa Ynez Valley, Santa Barbara, Central Coas...               Red Wine   \n",
       "3   Sta. Rita Hills, Santa Barbara, Central Coast,...               Red Wine   \n",
       "4                                    Burgundy, France             White Wine   \n",
       "5   Santa Lucia Highlands, Monterey, Central Coast...               Red Wine   \n",
       "6                                           Argentina               Red Wine   \n",
       "7           Chianti Classico, Chianti, Tuscany, Italy               Red Wine   \n",
       "8             Ribbon Ridge, Willamette Valley, Oregon               Red Wine   \n",
       "9                             Barolo, Piedmont, Italy               Red Wine   \n",
       "10                                           Portugal             White Wine   \n",
       "11                          Central Coast, California               Red Wine   \n",
       "12                          Central Coast, California               Red Wine   \n",
       "13                                     Alsace, France             White Wine   \n",
       "14                          Willamette Valley, Oregon             White Wine   \n",
       "15                        Columbia Valley, Washington               Red Wine   \n",
       "16                            Napa Valley, California               Red Wine   \n",
       "17                            Barolo, Piedmont, Italy               Red Wine   \n",
       "18                                       Rioja, Spain               Red Wine   \n",
       "19   Eden Valley, Barossa, South Australia, Australia             White Wine   \n",
       "\n",
       "    rating  \n",
       "0     90.0  \n",
       "1     88.0  \n",
       "2     96.0  \n",
       "3     90.0  \n",
       "4     94.0  \n",
       "5     90.0  \n",
       "6     88.0  \n",
       "7     91.0  \n",
       "8     95.0  \n",
       "9     94.0  \n",
       "10    90.0  \n",
       "11    92.0  \n",
       "12    92.0  \n",
       "13    91.0  \n",
       "14    90.0  \n",
       "15    90.0  \n",
       "16    94.0  \n",
       "17    92.0  \n",
       "18    91.0  \n",
       "19    90.0  "
      ]
     },
     "execution_count": 35,
     "metadata": {},
     "output_type": "execute_result"
    }
   ],
   "source": [
    "import pandas as pd\n",
    "df = pd.read_csv(\"wine-regions.csv\")\n",
    "df.head(20)"
   ]
  },
  {
   "cell_type": "markdown",
   "metadata": {},
   "source": [
    "### Crea un subconjunto aleatorio de datos\n",
    "Utiliza metodo `sample()` para obtener `n` elementos del conjunto de datos."
   ]
  },
  {
   "cell_type": "code",
   "execution_count": 37,
   "metadata": {},
   "outputs": [
    {
     "data": {
      "text/html": [
       "<div>\n",
       "<style scoped>\n",
       "    .dataframe tbody tr th:only-of-type {\n",
       "        vertical-align: middle;\n",
       "    }\n",
       "\n",
       "    .dataframe tbody tr th {\n",
       "        vertical-align: top;\n",
       "    }\n",
       "\n",
       "    .dataframe thead th {\n",
       "        text-align: right;\n",
       "    }\n",
       "</style>\n",
       "<table border=\"1\" class=\"dataframe\">\n",
       "  <thead>\n",
       "    <tr style=\"text-align: right;\">\n",
       "      <th></th>\n",
       "      <th>region</th>\n",
       "      <th>variety</th>\n",
       "      <th>rating</th>\n",
       "    </tr>\n",
       "  </thead>\n",
       "  <tbody>\n",
       "    <tr>\n",
       "      <th>1202</th>\n",
       "      <td>Napa Valley, California</td>\n",
       "      <td>White Wine</td>\n",
       "      <td>90.0</td>\n",
       "    </tr>\n",
       "    <tr>\n",
       "      <th>1957</th>\n",
       "      <td>Rioja, Spain</td>\n",
       "      <td>Red Wine</td>\n",
       "      <td>92.0</td>\n",
       "    </tr>\n",
       "    <tr>\n",
       "      <th>4077</th>\n",
       "      <td>Lirac, Rhone, France</td>\n",
       "      <td>Red Wine</td>\n",
       "      <td>94.0</td>\n",
       "    </tr>\n",
       "    <tr>\n",
       "      <th>246</th>\n",
       "      <td>Barolo, Piedmont, Italy</td>\n",
       "      <td>Red Wine</td>\n",
       "      <td>92.0</td>\n",
       "    </tr>\n",
       "    <tr>\n",
       "      <th>719</th>\n",
       "      <td>Willamette Valley, Oregon</td>\n",
       "      <td>Red Wine</td>\n",
       "      <td>92.0</td>\n",
       "    </tr>\n",
       "  </tbody>\n",
       "</table>\n",
       "</div>"
      ],
      "text/plain": [
       "                         region     variety  rating\n",
       "1202    Napa Valley, California  White Wine    90.0\n",
       "1957               Rioja, Spain    Red Wine    92.0\n",
       "4077       Lirac, Rhone, France    Red Wine    94.0\n",
       "246     Barolo, Piedmont, Italy    Red Wine    92.0\n",
       "719   Willamette Valley, Oregon    Red Wine    92.0"
      ]
     },
     "execution_count": 37,
     "metadata": {},
     "output_type": "execute_result"
    }
   ],
   "source": [
    "df.sample(n=20).head()"
   ]
  },
  {
   "cell_type": "markdown",
   "metadata": {},
   "source": [
    "### Obten más información sobre el conjunto de datos\n",
    "Utiliza los metodos `info()` y `describe()` para diferentes aspectos del conjunto de datos"
   ]
  },
  {
   "cell_type": "code",
   "execution_count": 38,
   "metadata": {},
   "outputs": [
    {
     "data": {
      "text/html": [
       "<div>\n",
       "<style scoped>\n",
       "    .dataframe tbody tr th:only-of-type {\n",
       "        vertical-align: middle;\n",
       "    }\n",
       "\n",
       "    .dataframe tbody tr th {\n",
       "        vertical-align: top;\n",
       "    }\n",
       "\n",
       "    .dataframe thead th {\n",
       "        text-align: right;\n",
       "    }\n",
       "</style>\n",
       "<table border=\"1\" class=\"dataframe\">\n",
       "  <thead>\n",
       "    <tr style=\"text-align: right;\">\n",
       "      <th></th>\n",
       "      <th>rating</th>\n",
       "    </tr>\n",
       "  </thead>\n",
       "  <tbody>\n",
       "    <tr>\n",
       "      <th>count</th>\n",
       "      <td>5000.000000</td>\n",
       "    </tr>\n",
       "    <tr>\n",
       "      <th>mean</th>\n",
       "      <td>91.185800</td>\n",
       "    </tr>\n",
       "    <tr>\n",
       "      <th>std</th>\n",
       "      <td>2.168644</td>\n",
       "    </tr>\n",
       "    <tr>\n",
       "      <th>min</th>\n",
       "      <td>85.000000</td>\n",
       "    </tr>\n",
       "    <tr>\n",
       "      <th>25%</th>\n",
       "      <td>90.000000</td>\n",
       "    </tr>\n",
       "    <tr>\n",
       "      <th>50%</th>\n",
       "      <td>91.000000</td>\n",
       "    </tr>\n",
       "    <tr>\n",
       "      <th>75%</th>\n",
       "      <td>92.000000</td>\n",
       "    </tr>\n",
       "    <tr>\n",
       "      <th>max</th>\n",
       "      <td>99.000000</td>\n",
       "    </tr>\n",
       "  </tbody>\n",
       "</table>\n",
       "</div>"
      ],
      "text/plain": [
       "            rating\n",
       "count  5000.000000\n",
       "mean     91.185800\n",
       "std       2.168644\n",
       "min      85.000000\n",
       "25%      90.000000\n",
       "50%      91.000000\n",
       "75%      92.000000\n",
       "max      99.000000"
      ]
     },
     "execution_count": 38,
     "metadata": {},
     "output_type": "execute_result"
    }
   ],
   "source": [
    "df.describe()"
   ]
  },
  {
   "cell_type": "code",
   "execution_count": 39,
   "metadata": {},
   "outputs": [
    {
     "name": "stdout",
     "output_type": "stream",
     "text": [
      "<class 'pandas.core.frame.DataFrame'>\n",
      "RangeIndex: 5000 entries, 0 to 4999\n",
      "Data columns (total 3 columns):\n",
      " #   Column   Non-Null Count  Dtype  \n",
      "---  ------   --------------  -----  \n",
      " 0   region   5000 non-null   object \n",
      " 1   variety  4942 non-null   object \n",
      " 2   rating   5000 non-null   float64\n",
      "dtypes: float64(1), object(2)\n",
      "memory usage: 117.3+ KB\n"
     ]
    }
   ],
   "source": [
    "df.info()"
   ]
  },
  {
   "cell_type": "markdown",
   "metadata": {},
   "source": [
    "### Usa plot para el contexto visual\n",
    "Utiliza el metodo `plot()` el cual utiliza la libreria `matplotlib`  detrás de escena para proporcionar contexto visual sobre los datos."
   ]
  },
  {
   "cell_type": "code",
   "execution_count": 40,
   "metadata": {},
   "outputs": [
    {
     "data": {
      "text/plain": [
       "<AxesSubplot:>"
      ]
     },
     "execution_count": 40,
     "metadata": {},
     "output_type": "execute_result"
    },
    {
     "data": {
      "image/png": "[encoded data removed]",
      "text/plain": [
       "<Figure size 640x480 with 1 Axes>"
      ]
     },
     "metadata": {},
     "output_type": "display_data"
    }
   ],
   "source": [
    "df.plot()"
   ]
  }
 ],
 "metadata": {
  "kernelspec": {
   "display_name": "Python 3.8.13 ('venv')",
   "language": "python",
   "name": "python3"
  },
  "language_info": {
   "codemirror_mode": {
    "name": "ipython",
    "version": 3
   },
   "file_extension": ".py",
   "mimetype": "text/x-python",
   "name": "python",
   "nbconvert_exporter": "python",
   "pygments_lexer": "ipython3",
   "version": "3.8.14"
  },
  "orig_nbformat": 4,
  "vscode": {
   "interpreter": {
    "hash": "f2a18e7aa35240a52af99ab71370101fdc3f0f419f0b3683d6828ff1fe801d36"
   }
  }
 },
 "nbformat": 4,
 "nbformat_minor": 2
}
